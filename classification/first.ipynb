{
 "cells": [
  {
   "cell_type": "code",
   "execution_count": 8,
   "id": "20050331",
   "metadata": {},
   "outputs": [
    {
     "data": {
      "text/plain": [
       "True"
      ]
     },
     "execution_count": 8,
     "metadata": {},
     "output_type": "execute_result"
    }
   ],
   "source": [
    "from langchain_google_genai import ChatGoogleGenerativeAI\n",
    "from langchain_core.prompts import PromptTemplate\n",
    "from langchain_core.output_parsers import StrOutputParser\n",
    "from dotenv import load_dotenv\n",
    "load_dotenv()"
   ]
  },
  {
   "cell_type": "code",
   "execution_count": null,
   "id": "abc896ab",
   "metadata": {},
   "outputs": [],
   "source": [
    "llm=ChatGoogleGenerativeAI(model=\"gemini-1.5-flash\")  # LLM model \n",
    "parser=StrOutputParser()"
   ]
  },
  {
   "cell_type": "code",
   "execution_count": null,
   "id": "42e08c4e",
   "metadata": {},
   "outputs": [],
   "source": [
    "prompt=PromptTemplate(template=\"\"\"your task is to Classifies a user's question into three category \"Math\" , \"opinion\" and \"Factual\" the rules for Classification are followings\n",
    "                    \n",
    "                     Math Classification: Identifies questions containing mathematical keywords or simple expressions (e.g., \"5 + 10\", \"what is the sum of 2 and 50\",\"minus the 10 from 100\",\"10 divided by 2\").\n",
    "\n",
    "                     Opinion Classification: Detects when a user is asking for a subjective opinion (e.g., \"What is the best color?\",\"this type keywords using if ['do you think', 'your opinion', 'believe', 'best', 'worst', 'favorite']\").\n",
    "\n",
    "                     Factual Classification: Acts as a default for common informational questions (e.g., \"Who was the first person on the moon?\",\"this keywords help you ['who', 'what', 'where', 'when', 'why', 'how']\").\n",
    "                     \n",
    "                     user question {question}\n",
    "                     \"\"\",\n",
    "                     input_variables=['question'])\n"
   ]
  },
  {
   "cell_type": "code",
   "execution_count": null,
   "id": "89b71e5c",
   "metadata": {},
   "outputs": [],
   "source": [
    "chain=prompt | llm | parser   "
   ]
  },
  {
   "cell_type": "code",
   "execution_count": 13,
   "id": "1ef1d5f8",
   "metadata": {},
   "outputs": [
    {
     "name": "stdout",
     "output_type": "stream",
     "text": [
      "--- Question Classification Script ---\n",
      "Ask me a question, or type 'exit' to quit.\n",
      "AI:- Opinion.  The statement expresses a feeling and preference, not a fact or a mathematical problem.\n",
      "Goodbye!\n"
     ]
    }
   ],
   "source": [
    "print(\"--- Question Classification Script ---\")\n",
    "print(\"Ask me a question, or type 'exit' to quit.\")\n",
    "list=['exit','EXIT']\n",
    "while True :\n",
    "    user_query=input()\n",
    "    if user_query not in list:\n",
    "        response=chain.invoke({'question':user_query})\n",
    "        print(\"AI:- \"+ response)\n",
    "    else:\n",
    "         print(\"Goodbye!\")\n",
    "         break  "
   ]
  },
  {
   "cell_type": "code",
   "execution_count": null,
   "id": "b2cc5b40",
   "metadata": {},
   "outputs": [],
   "source": []
  }
 ],
 "metadata": {
  "kernelspec": {
   "display_name": "venv",
   "language": "python",
   "name": "python3"
  },
  "language_info": {
   "codemirror_mode": {
    "name": "ipython",
    "version": 3
   },
   "file_extension": ".py",
   "mimetype": "text/x-python",
   "name": "python",
   "nbconvert_exporter": "python",
   "pygments_lexer": "ipython3",
   "version": "3.11.1"
  }
 },
 "nbformat": 4,
 "nbformat_minor": 5
}
